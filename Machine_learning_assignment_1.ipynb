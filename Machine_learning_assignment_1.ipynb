{
 "cells": [
  {
   "cell_type": "markdown",
   "id": "a9c82695",
   "metadata": {},
   "source": [
    "### Q1. What does mean by the term \"machine learning\"?\n",
    "#### Ans1.\n",
    "Machine Learning is the subset of Artificial Intelligence. Machine Learning provides us statistical tools to explore, visualize , analyze and perform prediction and other task with the help of data."
   ]
  },
  {
   "cell_type": "markdown",
   "id": "e06bfbbb",
   "metadata": {},
   "source": [
    "### Q2. Can you think of 4 distinct types of issues where it shines?\n",
    "#### Ans2.\n",
    "Four different types of issues where Machine Learning works are given below:\n",
    "\n",
    "(1).Identifying Spam : Spam identification is one of the most basic applications of machine learning. Most of our email inboxes also have an unsolicited, bulk, or spam inbox, where our email provider automatically filters unwanted spam emails.\n",
    "\n",
    "But how do they know that the email is spam?\n",
    "\n",
    "They use a trained Machine Learning model to identify all the spam emails based on common characteristics such as the email, subject, and sender content. If you look at your email inbox carefully, you will realize that it is not very hard to pick out spam emails because they look very different from real emails. Machine learning techniques used nowadays can automatically filter these spam emails in a very successful way.\n",
    "\n",
    "Spam detection is one of the best and most common problems solved by Machine Learning. Neural networks employ content-based filtering to classify unwanted emails as spam. These neural networks are quite similar to the brain, with the ability to identify spam emails and messages.\n",
    "\n",
    "Making Product Recommendations : Recommender systems are one of the most characteristic and ubiquitous machine learning use cases in day-to-day life. These systems are used everywhere by search engines, e-commerce websites (Amazon), entertainment platforms (Google Play, Netflix), and multiple web & mobile apps.These recommender systems allow businesses to drive more traffic, increase customer engagement, reduce churn rate, deliver relevant content and boost profits. All such recommended products are based on a machine learning model’s analysis of customer’s behavioral data. It is an excellent way for online retailers to offer extra value and enjoy various upselling opportunities using machine learning.\n",
    "\n",
    "Sentiment Analysis : Sentiment analysis is one of the beneficial and real-time machine learning applications that help determine the emotion or opinion of the speaker or the writer. For instance, if you’ve written a review, email, or any other form of a document, a sentiment analyzer will be able to assess the actual thought and tone of the text. This sentiment analysis application can be used to analyze decision-making applications, review-based websites, and more.\n",
    "\n",
    "Image & Video Recognition : Machines are good at processing images, Machine Learning algorithms can train Deep Learning frameworks to recognize and classify images in the dataset with much more accuracy than humans.Similar to image recognition, companies such as Shutterstock, eBay, Salesforce, Amazon, and Facebook use Machine Learning for video recognition where videos are broken down frame by frame and classified as individual digital images."
   ]
  },
  {
   "cell_type": "markdown",
   "id": "db0726d9",
   "metadata": {},
   "source": [
    "### Q3. What is a labeled training set, and how does it work?\n",
    "#### Ans3.\n",
    "The training data is the biggest (in -size) subset of the original dataset, which is used to train or fit the machine learning model. Firstly, the training data is fed to the ML algorithms, which lets them learn how to make predictions for the given task.\n",
    "\n",
    "The training data varies depending on whether we are using Supervised Learning or Unsupervised Learning Algorithms.\n",
    "\n",
    "For Unsupervised learning, the training data contains unlabeled data points, i.e., inputs are not tagged with the corresponding outputs. Models are required to find the patterns from the given training datasets in order to make predictions.On the other hand, for supervised learning, the training data contains labels in order to train the model and make predictions. The type of training data that we provide to the model is highly responsible for the model's accuracy and prediction ability. It means that the better the quality of the training data, the better will be the performance of the model. Training data is approximately more than or equal to 60% of the total data for an ML project.\n",
    "\n",
    "### Q4. What are the two most important tasks that are supervised?\n",
    "#### Ans4.\n",
    "Two important task that are supervised are Regression and Classification."
   ]
  },
  {
   "cell_type": "markdown",
   "id": "7c501bdd",
   "metadata": {},
   "source": [
    "### Q5.Can you think of four examples of unsupervised tasks ?\n",
    "#### Ans5:\n",
    "Four common Unsupervised Tasks included Clustering, Visualization, Dimensionality Reduction, and Association Rule Learning.\n",
    "\n",
    "### Q6.State the machine learning model that would be best to make a robot walk through various unfamiliar terrains ?\n",
    "#### Ans:\n",
    "The best Machine Learning algorithm to allow a Robot to walk in unfamiliar terrains is Reinforced Learning, where the robot can learn from response of the terrain to optimize itself."
   ]
  },
  {
   "cell_type": "markdown",
   "id": "76e6ae05",
   "metadata": {},
   "source": [
    "### Q7.Which algorithm will you use to divide your customers into different groups ?\n",
    "#### Ans:\n",
    "The Best Algorithm to Segment Customers into different groups is either Supervised Learning (if the groups have known labels) or Unsupervised Learning (if there are no group labels).\n",
    "\n",
    "### Q8.Will you consider the problem of spam detection to be a supervised or unsupervised learning problem ?\n",
    "#### Ans:\n",
    "Spam detection is a Supervised Machine Learning problem because the labels are known (spam or no spam)."
   ]
  },
  {
   "cell_type": "markdown",
   "id": "b6a23430",
   "metadata": {},
   "source": [
    "### Q9.What is the concept of an online learning system ?\n",
    "#### Ans:\n",
    "Online learning system is a learning system in which the machine learns continously, as data is given in small streams continuously.\n",
    "\n",
    "### Q10.What is out-of-core learning, and how does it differ from core learning ?\n",
    "#### Ans:\n",
    "Out-of-core learning system is a system that can handle data that cannot fit into our computer memory. It uses online learning system to feed data in small bits.\n",
    "\n",
    "### Q11.What kind of learning algorithm makes predictions using a similarity measure ?\n",
    "#### Ans:\n",
    "Learning algorithm that relies on a similarity measure to make predictions is Instance Based Algorithm. The Machine Learning systems which are categorized as instance-based learning are the systems that learn the training examples by heart and then generalizes to new instances based on some similarity measure. It is called instance-based because it builds the hypotheses from the training instances. It is also known as memory-based learning or lazy-learning. The time complexity of this algorithm depends upon the size of training data. The worst-case time complexity of this algorithm is O (n), where n is the number of training instances.\n",
    "\n",
    "For example, If we were to create a spam filter with an instance-based learning algorithm, instead of just flagging emails that are already marked as spam emails, our spam filter would be programmed to also flag emails that are very similar to them. This requires a measure of resemblance between two emails. A similarity measure between two emails could be the same sender or the repetitive use of the same keywords or something else.\n",
    "\n",
    "### Q12.What's the difference between a model parameter and a hyperparameter in a learning algorithm ?\n",
    "#### Ans:\n",
    "Model parameter determines how a model will predict given a new instance. Model usually has more than one parameter (i.e. slope of a linear model). Hyperparameter is a parameter for the learning algorithm, not of a model. Model parameters are estimated based on the data during model training and model hyperparameters are set manually and are used in processes to help estimate model parameters. Model hyperparameters are often referred to as parameters because they are the parts of the machine learning that must be set manually and tuned."
   ]
  },
  {
   "cell_type": "markdown",
   "id": "79493d4f",
   "metadata": {},
   "source": [
    "### Q13.What are the criteria that model-based learning algorithms look for? What is the most popular method they use to achieve success? What method do they use to make predictions ?\n",
    "#### Ans:\n",
    "Model based learning algorithm search for the optimal value of parameters in a model that will give the best results for the new instances. We often use a cost function or similar to determine what the parameter value has to be in order to minimize the function. The model makes prediction by using the value of the new instance and the parameters in its function. The goal for a model-based algorithm is to be able to generalize to new examples. To do this, model based algorithms search for optimal values for the model's parameters, often called theta. This searching, or \"learning\", is what machine learning is all about. Model-based system learn by minimizing a cost function that measures how bad the system is at making predicitons on new data, plus a penalty for model complexity if the model is regularized. To make a prediction, a new instance's features are fed into a hypothesis function which uses the minimized theta found by repeatedly running the cost function.\n",
    "\n",
    "### Q14.Can you name four of the most important Machine Learning challenges ?\n",
    "#### Ans:\n",
    "Four main challenges in Machine Learning include the following:\n",
    "\n",
    "1.Overfitting the Data (using a model too complicated)[Low bias, High Variance]\n",
    "\n",
    "2.Underfitting the data (using a simple model)[high bias, low/high variance]\n",
    "\n",
    "3.Lacking in Data\n",
    "\n",
    "4.Non Representative Data.\n",
    "\n",
    "### Q15.What happens if the model performs well on the training data but fails to generalize the results to new situations? Can you think of three different options ?\n",
    "#### Ans: \n",
    "If the model performs poorly to new instances, then it has overfitted(low bias , high variance) on the training data. To solve this, we can do any of the following three:\n",
    "\n",
    "Get more data, Implement a simpler model, Eliminate outliers or noise from the existing data set.\n",
    "\n",
    "### Q16.What exactly is a test set, and why would you need one ?\n",
    "#### Ans:\n",
    "Test set is a set to test your model (fit using training data) to see how it performs.Test set is necessary to determine how good (or bad) a model performs. When we want to know how well our model generalizes to new cases we prefer to use a test set instead of actually deploying the system. To build the test set we split the training data (50-50, 60-40, 80-20 are common splits) into a training set and test set. Our model is training with the training set. Then we use the model to run predictions on the test set. Our error rate on the test set is called the generalization error or out-of-sample error. This error tells us how well our model performs on examples it has never seen before.\n",
    "\n",
    "If the training error is low, but the generalization error is high, it means we're overfitting our model.\n",
    "\n",
    "### Q17.What is a validation set's purpose ?\n",
    "#### Ans:\n",
    "Validation set is a set used to compare between different training models. Let's say we have a linear model and we want to perform some hyperparameter tuning to reduce the generalization error. One way to do this 100 different models with 100 different hyperparameter values using the training set and finding the generalization error with the test set. You find the best hyperparameter value gives you 5% generalization error.\n",
    "\n",
    "So you launch the model into production and find you're seeing 15% generalization error. This isn't going as expected. What happened?\n",
    "\n",
    "The problem is that for each iteration of hyperparameter tuning, you measured the generalization error then updated the model using the same test set. In other words, your produced the best generalization error for the test set. The test set no longer represents cases the model hasn't seen before.\n",
    "\n",
    "A common solution to this problem is to have a second holdout set called the validation set. You train multiple models with various hyperparameters using the training set, you select the model and hyperparameters that perform best on the validation set, and when you are happy about your model you run a single final test against the test set to get an estimate of the generalization error.\n",
    "\n",
    "### Q18.What precisely is the train-dev kit, when will you need it, how do you put it to use ?\n",
    "#### Ans:\n",
    "Cross-validation is a tool to compare models without needing a separate validation set. It is preferred over validation set because we can save from breaking of part of the training set to create a validation set, as having more data is valuable regardless.\n",
    "\n",
    "### Q19.What could go wrong if you use the test set to tune hyperparameters ?\n",
    "#### Ans:\n",
    "If you tune hyperparameters using the test sets, then it may not perform well on the out-of-sample data because the model is tuned just for that specific set. Our model will not be generalizable to new examples."
   ]
  }
 ],
 "metadata": {
  "kernelspec": {
   "display_name": "Python 3 (ipykernel)",
   "language": "python",
   "name": "python3"
  },
  "language_info": {
   "codemirror_mode": {
    "name": "ipython",
    "version": 3
   },
   "file_extension": ".py",
   "mimetype": "text/x-python",
   "name": "python",
   "nbconvert_exporter": "python",
   "pygments_lexer": "ipython3",
   "version": "3.9.12"
  }
 },
 "nbformat": 4,
 "nbformat_minor": 5
}
